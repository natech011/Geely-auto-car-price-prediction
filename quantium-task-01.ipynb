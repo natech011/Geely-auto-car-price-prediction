{
 "cells": [
  {
   "cell_type": "code",
   "execution_count": 1,
   "id": "6c72d0bb",
   "metadata": {
    "_cell_guid": "b1076dfc-b9ad-4769-8c92-a6c4dae69d19",
    "_uuid": "8f2839f25d086af736a60e9eeb907d3b93b6e0e5",
    "execution": {
     "iopub.execute_input": "2025-05-28T18:01:45.067589Z",
     "iopub.status.busy": "2025-05-28T18:01:45.066572Z",
     "iopub.status.idle": "2025-05-28T18:01:47.018398Z",
     "shell.execute_reply": "2025-05-28T18:01:47.017307Z"
    },
    "papermill": {
     "duration": 1.961198,
     "end_time": "2025-05-28T18:01:47.020219",
     "exception": false,
     "start_time": "2025-05-28T18:01:45.059021",
     "status": "completed"
    },
    "tags": []
   },
   "outputs": [
    {
     "name": "stdout",
     "output_type": "stream",
     "text": [
      "/kaggle/input/quantium-dataset-task-1/QVI_purchase_behaviour.csv\n",
      "/kaggle/input/quantium-dataset-task-1/QVI_transaction_data.xlsx\n"
     ]
    }
   ],
   "source": [
    "# This Python 3 environment comes with many helpful analytics libraries installed\n",
    "# It is defined by the kaggle/python Docker image: https://github.com/kaggle/docker-python\n",
    "# For example, here's several helpful packages to load\n",
    "\n",
    "import numpy as np # linear algebra\n",
    "import pandas as pd # data processing, CSV file I/O (e.g. pd.read_csv)\n",
    "\n",
    "# Input data files are available in the read-only \"../input/\" directory\n",
    "# For example, running this (by clicking run or pressing Shift+Enter) will list all files under the input directory\n",
    "\n",
    "import os\n",
    "for dirname, _, filenames in os.walk('/kaggle/input'):\n",
    "    for filename in filenames:\n",
    "        print(os.path.join(dirname, filename))\n",
    "\n",
    "# You can write up to 20GB to the current directory (/kaggle/working/) that gets preserved as output when you create a version using \"Save & Run All\" \n",
    "# You can also write temporary files to /kaggle/temp/, but they won't be saved outside of the current session"
   ]
  },
  {
   "cell_type": "code",
   "execution_count": 2,
   "id": "3d84976e",
   "metadata": {
    "execution": {
     "iopub.execute_input": "2025-05-28T18:01:47.033970Z",
     "iopub.status.busy": "2025-05-28T18:01:47.033036Z",
     "iopub.status.idle": "2025-05-28T18:02:12.119003Z",
     "shell.execute_reply": "2025-05-28T18:02:12.118099Z"
    },
    "papermill": {
     "duration": 25.094722,
     "end_time": "2025-05-28T18:02:12.121035",
     "exception": false,
     "start_time": "2025-05-28T18:01:47.026313",
     "status": "completed"
    },
    "tags": []
   },
   "outputs": [],
   "source": [
    "import pandas as pd\n",
    "\n",
    "# Load both files\n",
    "transactions = pd.read_excel('/kaggle/input/quantium-dataset-task-1/QVI_transaction_data.xlsx')\n",
    "purchase_behaviour = pd.read_csv('/kaggle/input/quantium-dataset-task-1/QVI_purchase_behaviour.csv')\n"
   ]
  },
  {
   "cell_type": "code",
   "execution_count": 3,
   "id": "f768810b",
   "metadata": {
    "execution": {
     "iopub.execute_input": "2025-05-28T18:02:12.133628Z",
     "iopub.status.busy": "2025-05-28T18:02:12.133305Z",
     "iopub.status.idle": "2025-05-28T18:02:36.151499Z",
     "shell.execute_reply": "2025-05-28T18:02:36.150427Z"
    },
    "papermill": {
     "duration": 24.026742,
     "end_time": "2025-05-28T18:02:36.153514",
     "exception": false,
     "start_time": "2025-05-28T18:02:12.126772",
     "status": "completed"
    },
    "tags": []
   },
   "outputs": [
    {
     "name": "stdout",
     "output_type": "stream",
     "text": [
      "        DATE  STORE_NBR  LYLTY_CARD_NBR  TXN_ID  PROD_NBR  \\\n",
      "0 2018-10-17          1            1000       1         5   \n",
      "1 2019-05-14          1            1307     348        66   \n",
      "2 2019-05-20          1            1343     383        61   \n",
      "3 2018-08-17          2            2373     974        69   \n",
      "4 2018-08-18          2            2426    1038       108   \n",
      "\n",
      "                                  PROD_NAME  PROD_QTY  TOT_SALES      MONTH  \\\n",
      "0    Natural Chip        Compny SeaSalt175g         2        6.0 2018-10-01   \n",
      "1                  CCs Nacho Cheese    175g         3        6.3 2019-05-01   \n",
      "2    Smiths Crinkle Cut  Chips Chicken 170g         2        2.9 2019-05-01   \n",
      "3    Smiths Chip Thinly  S/Cream&Onion 175g         5       15.0 2018-08-01   \n",
      "4  Kettle Tortilla ChpsHny&Jlpno Chili 150g         3       13.8 2018-08-01   \n",
      "\n",
      "                LIFESTAGE PREMIUM_CUSTOMER  \n",
      "0   YOUNG SINGLES/COUPLES          Premium  \n",
      "1  MIDAGE SINGLES/COUPLES           Budget  \n",
      "2  MIDAGE SINGLES/COUPLES           Budget  \n",
      "3  MIDAGE SINGLES/COUPLES           Budget  \n",
      "4  MIDAGE SINGLES/COUPLES           Budget  \n"
     ]
    }
   ],
   "source": [
    "import pandas as pd\n",
    "\n",
    "# Load both files\n",
    "transactions = pd.read_excel('/kaggle/input/quantium-dataset-task-1/QVI_transaction_data.xlsx')\n",
    "purchase_behaviour = pd.read_csv('/kaggle/input/quantium-dataset-task-1/QVI_purchase_behaviour.csv')\n",
    "\n",
    "# Fix the DATE column (Excel serial date)\n",
    "transactions['DATE'] = pd.to_datetime('1899-12-30') + pd.to_timedelta(transactions['DATE'], unit='D')\n",
    "\n",
    "# Create a MONTH column\n",
    "transactions['MONTH'] = transactions['DATE'].dt.to_period('M').dt.to_timestamp()\n",
    "\n",
    "# Merge the two datasets on LYLTY_CARD_NBR\n",
    "merged_df = pd.merge(transactions, purchase_behaviour, on='LYLTY_CARD_NBR', how='left')\n",
    "\n",
    "# Check result\n",
    "print(merged_df.head())\n"
   ]
  },
  {
   "cell_type": "code",
   "execution_count": 4,
   "id": "f01236a7",
   "metadata": {
    "execution": {
     "iopub.execute_input": "2025-05-28T18:02:36.166434Z",
     "iopub.status.busy": "2025-05-28T18:02:36.166082Z",
     "iopub.status.idle": "2025-05-28T18:02:36.268384Z",
     "shell.execute_reply": "2025-05-28T18:02:36.267187Z"
    },
    "papermill": {
     "duration": 0.110968,
     "end_time": "2025-05-28T18:02:36.270330",
     "exception": false,
     "start_time": "2025-05-28T18:02:36.159362",
     "status": "completed"
    },
    "tags": []
   },
   "outputs": [
    {
     "name": "stdout",
     "output_type": "stream",
     "text": [
      "DATE                0\n",
      "STORE_NBR           0\n",
      "LYLTY_CARD_NBR      0\n",
      "TXN_ID              0\n",
      "PROD_NBR            0\n",
      "PROD_NAME           0\n",
      "PROD_QTY            0\n",
      "TOT_SALES           0\n",
      "MONTH               0\n",
      "LIFESTAGE           0\n",
      "PREMIUM_CUSTOMER    0\n",
      "dtype: int64\n",
      "DATE                0.0\n",
      "STORE_NBR           0.0\n",
      "LYLTY_CARD_NBR      0.0\n",
      "TXN_ID              0.0\n",
      "PROD_NBR            0.0\n",
      "PROD_NAME           0.0\n",
      "PROD_QTY            0.0\n",
      "TOT_SALES           0.0\n",
      "MONTH               0.0\n",
      "LIFESTAGE           0.0\n",
      "PREMIUM_CUSTOMER    0.0\n",
      "dtype: float64\n"
     ]
    }
   ],
   "source": [
    "# Check how many missing values per column\n",
    "print(merged_df.isnull().sum())\n",
    "\n",
    "# Check percentage of missing data\n",
    "print((merged_df.isnull().mean() * 100).round(2))\n"
   ]
  },
  {
   "cell_type": "code",
   "execution_count": 5,
   "id": "ce960e97",
   "metadata": {
    "execution": {
     "iopub.execute_input": "2025-05-28T18:02:36.282926Z",
     "iopub.status.busy": "2025-05-28T18:02:36.282571Z",
     "iopub.status.idle": "2025-05-28T18:02:36.684694Z",
     "shell.execute_reply": "2025-05-28T18:02:36.683613Z"
    },
    "papermill": {
     "duration": 0.410588,
     "end_time": "2025-05-28T18:02:36.686675",
     "exception": false,
     "start_time": "2025-05-28T18:02:36.276087",
     "status": "completed"
    },
    "tags": []
   },
   "outputs": [
    {
     "name": "stdout",
     "output_type": "stream",
     "text": [
      "Number of duplicate rows: 1\n",
      "Empty DataFrame\n",
      "Columns: [DATE, STORE_NBR, LYLTY_CARD_NBR, TXN_ID, PROD_NBR, PROD_NAME, PROD_QTY, TOT_SALES, MONTH, LIFESTAGE, PREMIUM_CUSTOMER]\n",
      "Index: []\n"
     ]
    }
   ],
   "source": [
    "# Check for duplicate rows\n",
    "duplicates = merged_df.duplicated().sum()\n",
    "print(f\"Number of duplicate rows: {duplicates}\")\n",
    "\n",
    "# Optional: Drop them\n",
    "merged_df = merged_df.drop_duplicates()\n",
    "# Display the duplicated row(s)\n",
    "duplicates = merged_df[merged_df.duplicated()]\n",
    "print(duplicates)\n",
    "\n"
   ]
  },
  {
   "cell_type": "code",
   "execution_count": 6,
   "id": "475d53c9",
   "metadata": {
    "execution": {
     "iopub.execute_input": "2025-05-28T18:02:36.698881Z",
     "iopub.status.busy": "2025-05-28T18:02:36.698599Z",
     "iopub.status.idle": "2025-05-28T18:02:36.826404Z",
     "shell.execute_reply": "2025-05-28T18:02:36.825464Z"
    },
    "papermill": {
     "duration": 0.136107,
     "end_time": "2025-05-28T18:02:36.828244",
     "exception": false,
     "start_time": "2025-05-28T18:02:36.692137",
     "status": "completed"
    },
    "tags": []
   },
   "outputs": [],
   "source": [
    "merged_df = merged_df.drop_duplicates()\n",
    "# Display the duplicated row(s)"
   ]
  },
  {
   "cell_type": "code",
   "execution_count": 7,
   "id": "8ba40703",
   "metadata": {
    "execution": {
     "iopub.execute_input": "2025-05-28T18:02:36.841406Z",
     "iopub.status.busy": "2025-05-28T18:02:36.841121Z",
     "iopub.status.idle": "2025-05-28T18:02:36.956662Z",
     "shell.execute_reply": "2025-05-28T18:02:36.955477Z"
    },
    "papermill": {
     "duration": 0.124254,
     "end_time": "2025-05-28T18:02:36.958361",
     "exception": false,
     "start_time": "2025-05-28T18:02:36.834107",
     "status": "completed"
    },
    "tags": []
   },
   "outputs": [
    {
     "name": "stdout",
     "output_type": "stream",
     "text": [
      "Duplicates remaining: 0\n"
     ]
    }
   ],
   "source": [
    "print(f\"Duplicates remaining: {merged_df.duplicated().sum()}\")"
   ]
  },
  {
   "cell_type": "code",
   "execution_count": 8,
   "id": "0b8a6d7a",
   "metadata": {
    "execution": {
     "iopub.execute_input": "2025-05-28T18:02:36.971454Z",
     "iopub.status.busy": "2025-05-28T18:02:36.971133Z",
     "iopub.status.idle": "2025-05-28T18:02:36.977804Z",
     "shell.execute_reply": "2025-05-28T18:02:36.976672Z"
    },
    "papermill": {
     "duration": 0.015163,
     "end_time": "2025-05-28T18:02:36.979366",
     "exception": false,
     "start_time": "2025-05-28T18:02:36.964203",
     "status": "completed"
    },
    "tags": []
   },
   "outputs": [
    {
     "name": "stdout",
     "output_type": "stream",
     "text": [
      "DATE                datetime64[ns]\n",
      "STORE_NBR                    int64\n",
      "LYLTY_CARD_NBR               int64\n",
      "TXN_ID                       int64\n",
      "PROD_NBR                     int64\n",
      "PROD_NAME                   object\n",
      "PROD_QTY                     int64\n",
      "TOT_SALES                  float64\n",
      "MONTH               datetime64[ns]\n",
      "LIFESTAGE                   object\n",
      "PREMIUM_CUSTOMER            object\n",
      "dtype: object\n"
     ]
    }
   ],
   "source": [
    "print(merged_df.dtypes)\n"
   ]
  },
  {
   "cell_type": "code",
   "execution_count": 9,
   "id": "9c59a936",
   "metadata": {
    "execution": {
     "iopub.execute_input": "2025-05-28T18:02:36.992259Z",
     "iopub.status.busy": "2025-05-28T18:02:36.991831Z",
     "iopub.status.idle": "2025-05-28T18:02:37.029500Z",
     "shell.execute_reply": "2025-05-28T18:02:37.028557Z"
    },
    "papermill": {
     "duration": 0.045932,
     "end_time": "2025-05-28T18:02:37.031178",
     "exception": false,
     "start_time": "2025-05-28T18:02:36.985246",
     "status": "completed"
    },
    "tags": []
   },
   "outputs": [],
   "source": [
    "merged_df['LIFESTAGE'] = merged_df['LIFESTAGE'].astype('category')\n",
    "merged_df['PREMIUM_CUSTOMER'] = merged_df['PREMIUM_CUSTOMER'].astype('category')\n"
   ]
  },
  {
   "cell_type": "code",
   "execution_count": 10,
   "id": "df8ac814",
   "metadata": {
    "execution": {
     "iopub.execute_input": "2025-05-28T18:02:37.044336Z",
     "iopub.status.busy": "2025-05-28T18:02:37.043950Z",
     "iopub.status.idle": "2025-05-28T18:02:37.080988Z",
     "shell.execute_reply": "2025-05-28T18:02:37.079726Z"
    },
    "papermill": {
     "duration": 0.045209,
     "end_time": "2025-05-28T18:02:37.082693",
     "exception": false,
     "start_time": "2025-05-28T18:02:37.037484",
     "status": "completed"
    },
    "tags": []
   },
   "outputs": [
    {
     "name": "stdout",
     "output_type": "stream",
     "text": [
      "            PROD_QTY      TOT_SALES\n",
      "count  264835.000000  264835.000000\n",
      "mean        1.907308       7.304205\n",
      "std         0.643655       3.083231\n",
      "min         1.000000       1.500000\n",
      "25%         2.000000       5.400000\n",
      "50%         2.000000       7.400000\n",
      "75%         2.000000       9.200000\n",
      "max       200.000000     650.000000\n"
     ]
    }
   ],
   "source": [
    "# Check for Outliers...Focus: PROD_QTY and TOT_SALES\n",
    "print(merged_df[['PROD_QTY', 'TOT_SALES']].describe())\n"
   ]
  },
  {
   "cell_type": "code",
   "execution_count": 11,
   "id": "48bad143",
   "metadata": {
    "execution": {
     "iopub.execute_input": "2025-05-28T18:02:37.096016Z",
     "iopub.status.busy": "2025-05-28T18:02:37.095140Z",
     "iopub.status.idle": "2025-05-28T18:02:37.127120Z",
     "shell.execute_reply": "2025-05-28T18:02:37.126066Z"
    },
    "papermill": {
     "duration": 0.040598,
     "end_time": "2025-05-28T18:02:37.128869",
     "exception": false,
     "start_time": "2025-05-28T18:02:37.088271",
     "status": "completed"
    },
    "tags": []
   },
   "outputs": [],
   "source": [
    "filtered_df = merged_df[merged_df['PROD_QTY'] <= 5].copy()\n"
   ]
  },
  {
   "cell_type": "code",
   "execution_count": 12,
   "id": "d79ee564",
   "metadata": {
    "execution": {
     "iopub.execute_input": "2025-05-28T18:02:37.142083Z",
     "iopub.status.busy": "2025-05-28T18:02:37.141701Z",
     "iopub.status.idle": "2025-05-28T18:02:37.147496Z",
     "shell.execute_reply": "2025-05-28T18:02:37.146395Z"
    },
    "papermill": {
     "duration": 0.014221,
     "end_time": "2025-05-28T18:02:37.148962",
     "exception": false,
     "start_time": "2025-05-28T18:02:37.134741",
     "status": "completed"
    },
    "tags": []
   },
   "outputs": [
    {
     "name": "stdout",
     "output_type": "stream",
     "text": [
      "Index(['DATE', 'STORE_NBR', 'LYLTY_CARD_NBR', 'TXN_ID', 'PROD_NBR',\n",
      "       'PROD_NAME', 'PROD_QTY', 'TOT_SALES', 'MONTH', 'LIFESTAGE',\n",
      "       'PREMIUM_CUSTOMER'],\n",
      "      dtype='object')\n"
     ]
    }
   ],
   "source": [
    "print(merged_df.columns)\n"
   ]
  },
  {
   "cell_type": "code",
   "execution_count": 13,
   "id": "16fefce7",
   "metadata": {
    "execution": {
     "iopub.execute_input": "2025-05-28T18:02:37.161533Z",
     "iopub.status.busy": "2025-05-28T18:02:37.161225Z",
     "iopub.status.idle": "2025-05-28T18:02:37.240024Z",
     "shell.execute_reply": "2025-05-28T18:02:37.238806Z"
    },
    "papermill": {
     "duration": 0.087285,
     "end_time": "2025-05-28T18:02:37.241934",
     "exception": false,
     "start_time": "2025-05-28T18:02:37.154649",
     "status": "completed"
    },
    "tags": []
   },
   "outputs": [
    {
     "name": "stdout",
     "output_type": "stream",
     "text": [
      "Unique STORE_NBR count: 272\n",
      "Unique LYLTY_CARD_NBR count: 72637\n",
      "\n",
      "LIFESTAGE value counts:\n",
      "LIFESTAGE\n",
      "OLDER SINGLES/COUPLES     54478\n",
      "RETIREES                  49763\n",
      "OLDER FAMILIES            48596\n",
      "YOUNG FAMILIES            43592\n",
      "YOUNG SINGLES/COUPLES     36377\n",
      "MIDAGE SINGLES/COUPLES    25110\n",
      "NEW FAMILIES               6919\n",
      "Name: count, dtype: int64\n",
      "\n",
      "PREMIUM_CUSTOMER value counts:\n",
      "PREMIUM_CUSTOMER\n",
      "Mainstream    101988\n",
      "Budget         93157\n",
      "Premium        69690\n",
      "Name: count, dtype: int64\n"
     ]
    }
   ],
   "source": [
    "# Number of unique stores\n",
    "print(\"Unique STORE_NBR count:\", merged_df['STORE_NBR'].nunique())\n",
    "\n",
    "# Number of unique loyalty cards\n",
    "print(\"Unique LYLTY_CARD_NBR count:\", merged_df['LYLTY_CARD_NBR'].nunique())\n",
    "\n",
    "# Distribution of LIFESTAGE values\n",
    "print(\"\\nLIFESTAGE value counts:\")\n",
    "print(merged_df['LIFESTAGE'].value_counts(dropna=False))\n",
    "\n",
    "# Distribution of PREMIUM_CUSTOMER values\n",
    "print(\"\\nPREMIUM_CUSTOMER value counts:\")\n",
    "print(merged_df['PREMIUM_CUSTOMER'].value_counts(dropna=False))\n"
   ]
  },
  {
   "cell_type": "code",
   "execution_count": 14,
   "id": "b63d0808",
   "metadata": {
    "execution": {
     "iopub.execute_input": "2025-05-28T18:02:37.257067Z",
     "iopub.status.busy": "2025-05-28T18:02:37.256652Z",
     "iopub.status.idle": "2025-05-28T18:02:37.419546Z",
     "shell.execute_reply": "2025-05-28T18:02:37.417936Z"
    },
    "papermill": {
     "duration": 0.172853,
     "end_time": "2025-05-28T18:02:37.421286",
     "exception": false,
     "start_time": "2025-05-28T18:02:37.248433",
     "status": "completed"
    },
    "tags": []
   },
   "outputs": [
    {
     "name": "stdout",
     "output_type": "stream",
     "text": [
      "<class 'pandas.core.frame.DataFrame'>\n",
      "Index: 264833 entries, 0 to 264835\n",
      "Data columns (total 11 columns):\n",
      " #   Column            Non-Null Count   Dtype         \n",
      "---  ------            --------------   -----         \n",
      " 0   DATE              264833 non-null  datetime64[ns]\n",
      " 1   STORE_NBR         264833 non-null  int64         \n",
      " 2   LYLTY_CARD_NBR    264833 non-null  int64         \n",
      " 3   TXN_ID            264833 non-null  int64         \n",
      " 4   PROD_NBR          264833 non-null  int64         \n",
      " 5   PROD_NAME         264833 non-null  object        \n",
      " 6   PROD_QTY          264833 non-null  int64         \n",
      " 7   TOT_SALES         264833 non-null  float64       \n",
      " 8   MONTH             264833 non-null  datetime64[ns]\n",
      " 9   LIFESTAGE         264833 non-null  category      \n",
      " 10  PREMIUM_CUSTOMER  264833 non-null  category      \n",
      "dtypes: category(2), datetime64[ns](2), float64(1), int64(5), object(1)\n",
      "memory usage: 20.7+ MB\n",
      "None\n",
      "                                 DATE      STORE_NBR  LYLTY_CARD_NBR  \\\n",
      "count                          264833  264833.000000    2.648330e+05   \n",
      "unique                            NaN            NaN             NaN   \n",
      "top                               NaN            NaN             NaN   \n",
      "freq                              NaN            NaN             NaN   \n",
      "mean    2018-12-30 00:52:39.666657792     135.079529    1.355489e+05   \n",
      "min               2018-07-01 00:00:00       1.000000    1.000000e+03   \n",
      "25%               2018-09-30 00:00:00      70.000000    7.002100e+04   \n",
      "50%               2018-12-30 00:00:00     130.000000    1.303570e+05   \n",
      "75%               2019-03-31 00:00:00     203.000000    2.030940e+05   \n",
      "max               2019-06-30 00:00:00     272.000000    2.373711e+06   \n",
      "std                               NaN      76.784189    8.058003e+04   \n",
      "\n",
      "              TXN_ID       PROD_NBR                               PROD_NAME  \\\n",
      "count   2.648330e+05  264833.000000                                  264833   \n",
      "unique           NaN            NaN                                     114   \n",
      "top              NaN            NaN  Kettle Mozzarella   Basil & Pesto 175g   \n",
      "freq             NaN            NaN                                    3304   \n",
      "mean    1.351577e+05      56.583598                                     NaN   \n",
      "min     1.000000e+00       1.000000                                     NaN   \n",
      "25%     6.760000e+04      28.000000                                     NaN   \n",
      "50%     1.351370e+05      56.000000                                     NaN   \n",
      "75%     2.027000e+05      85.000000                                     NaN   \n",
      "max     2.415841e+06     114.000000                                     NaN   \n",
      "std     7.813305e+04      32.826498                                     NaN   \n",
      "\n",
      "             PROD_QTY      TOT_SALES                          MONTH  \\\n",
      "count   264833.000000  264833.000000                         264833   \n",
      "unique            NaN            NaN                            NaN   \n",
      "top               NaN            NaN                            NaN   \n",
      "freq              NaN            NaN                            NaN   \n",
      "mean         1.905812       7.299351  2018-12-15 07:45:38.826354688   \n",
      "min          1.000000       1.500000            2018-07-01 00:00:00   \n",
      "25%          2.000000       5.400000            2018-09-01 00:00:00   \n",
      "50%          2.000000       7.400000            2018-12-01 00:00:00   \n",
      "75%          2.000000       9.200000            2019-03-01 00:00:00   \n",
      "max          5.000000      29.500000            2019-06-01 00:00:00   \n",
      "std          0.343437       2.527244                            NaN   \n",
      "\n",
      "                    LIFESTAGE PREMIUM_CUSTOMER  \n",
      "count                  264833           264833  \n",
      "unique                      7                3  \n",
      "top     OLDER SINGLES/COUPLES       Mainstream  \n",
      "freq                    54478           101988  \n",
      "mean                      NaN              NaN  \n",
      "min                       NaN              NaN  \n",
      "25%                       NaN              NaN  \n",
      "50%                       NaN              NaN  \n",
      "75%                       NaN              NaN  \n",
      "max                       NaN              NaN  \n",
      "std                       NaN              NaN  \n"
     ]
    },
    {
     "name": "stderr",
     "output_type": "stream",
     "text": [
      "/usr/local/lib/python3.11/dist-packages/pandas/io/formats/format.py:1458: RuntimeWarning: invalid value encountered in greater\n",
      "  has_large_values = (abs_vals > 1e6).any()\n",
      "/usr/local/lib/python3.11/dist-packages/pandas/io/formats/format.py:1459: RuntimeWarning: invalid value encountered in less\n",
      "  has_small_values = ((abs_vals < 10 ** (-self.digits)) & (abs_vals > 0)).any()\n",
      "/usr/local/lib/python3.11/dist-packages/pandas/io/formats/format.py:1459: RuntimeWarning: invalid value encountered in greater\n",
      "  has_small_values = ((abs_vals < 10 ** (-self.digits)) & (abs_vals > 0)).any()\n"
     ]
    }
   ],
   "source": [
    "print(filtered_df.info())\n",
    "print(filtered_df.describe(include='all'))\n"
   ]
  },
  {
   "cell_type": "code",
   "execution_count": 15,
   "id": "097bebdf",
   "metadata": {
    "execution": {
     "iopub.execute_input": "2025-05-28T18:02:37.435124Z",
     "iopub.status.busy": "2025-05-28T18:02:37.434729Z",
     "iopub.status.idle": "2025-05-28T18:02:37.464358Z",
     "shell.execute_reply": "2025-05-28T18:02:37.462990Z"
    },
    "papermill": {
     "duration": 0.038538,
     "end_time": "2025-05-28T18:02:37.466130",
     "exception": false,
     "start_time": "2025-05-28T18:02:37.427592",
     "status": "completed"
    },
    "tags": []
   },
   "outputs": [
    {
     "data": {
      "text/plain": [
       "DATE                0\n",
       "STORE_NBR           0\n",
       "LYLTY_CARD_NBR      0\n",
       "TXN_ID              0\n",
       "PROD_NBR            0\n",
       "PROD_NAME           0\n",
       "PROD_QTY            0\n",
       "TOT_SALES           0\n",
       "MONTH               0\n",
       "LIFESTAGE           0\n",
       "PREMIUM_CUSTOMER    0\n",
       "dtype: int64"
      ]
     },
     "execution_count": 15,
     "metadata": {},
     "output_type": "execute_result"
    }
   ],
   "source": [
    "filtered_df.isnull().sum()\n"
   ]
  },
  {
   "cell_type": "code",
   "execution_count": 16,
   "id": "6a73d502",
   "metadata": {
    "execution": {
     "iopub.execute_input": "2025-05-28T18:02:37.485617Z",
     "iopub.status.busy": "2025-05-28T18:02:37.484537Z",
     "iopub.status.idle": "2025-05-28T18:02:37.591694Z",
     "shell.execute_reply": "2025-05-28T18:02:37.590352Z"
    },
    "papermill": {
     "duration": 0.118927,
     "end_time": "2025-05-28T18:02:37.593513",
     "exception": false,
     "start_time": "2025-05-28T18:02:37.474586",
     "status": "completed"
    },
    "tags": []
   },
   "outputs": [
    {
     "name": "stdout",
     "output_type": "stream",
     "text": [
      "Missing Dates: [datetime.date(2018, 12, 25)]\n",
      "Is Christmas Day (Dec 25) missing?: True\n"
     ]
    }
   ],
   "source": [
    "# Generate full range of dates in your dataset\n",
    "date_range = pd.date_range(start=filtered_df['DATE'].min(), end=filtered_df['DATE'].max())\n",
    "\n",
    "# Identify missing dates\n",
    "missing_dates = set(date_range.date) - set(filtered_df['DATE'].dt.date.unique())\n",
    "\n",
    "# Specifically check for Christmas Day\n",
    "is_christmas_missing = pd.to_datetime('2018-12-25').date() in missing_dates\n",
    "\n",
    "# Print results\n",
    "print(\"Missing Dates:\", sorted(missing_dates))\n",
    "print(\"Is Christmas Day (Dec 25) missing?:\", is_christmas_missing)\n"
   ]
  },
  {
   "cell_type": "markdown",
   "id": "af1e97d7",
   "metadata": {
    "papermill": {
     "duration": 0.006737,
     "end_time": "2025-05-28T18:02:37.606885",
     "exception": false,
     "start_time": "2025-05-28T18:02:37.600148",
     "status": "completed"
    },
    "tags": []
   },
   "source": [
    "### Holiday Gap Check – Missing Transaction Dates\n",
    "\n",
    "We performed a check for any missing calendar dates within the transaction period in `filtered_df`.  \n",
    "It was identified that **December 25, 2018 (Christmas Day)** is not included in the dataset. This is likely due to store closure on that public holiday, which is expected.  \n",
    "No corrective action is required, but this gap is acknowledged for completeness.\n"
   ]
  },
  {
   "cell_type": "code",
   "execution_count": 17,
   "id": "d560f596",
   "metadata": {
    "execution": {
     "iopub.execute_input": "2025-05-28T18:02:37.621457Z",
     "iopub.status.busy": "2025-05-28T18:02:37.620769Z",
     "iopub.status.idle": "2025-05-28T18:02:39.546172Z",
     "shell.execute_reply": "2025-05-28T18:02:39.545145Z"
    },
    "papermill": {
     "duration": 1.934804,
     "end_time": "2025-05-28T18:02:39.548108",
     "exception": false,
     "start_time": "2025-05-28T18:02:37.613304",
     "status": "completed"
    },
    "tags": []
   },
   "outputs": [],
   "source": [
    "#Rename the DataFrame\n",
    "filtered_transactions_data = filtered_df.copy()\n",
    "\n",
    "# Save it as a # RCSV file\n",
    "filtered_transactions_data.to_csv('filtered_transactions_data.csv', index=False)\n"
   ]
  },
  {
   "cell_type": "markdown",
   "id": "40a55025",
   "metadata": {
    "papermill": {
     "duration": 0.005823,
     "end_time": "2025-05-28T18:02:39.560503",
     "exception": false,
     "start_time": "2025-05-28T18:02:39.554680",
     "status": "completed"
    },
    "tags": []
   },
   "source": [
    "### Save Cleaned Transactions Data\n",
    "\n",
    "We have renamed our cleaned and filtered DataFrame to `filtered_transactions_data` for better clarity.  \n",
    "It has been saved as a CSV file (`filtered_transactions_data.csv`) for reuse in Task 2 and Task 3 notebooks.\n"
   ]
  },
  {
   "cell_type": "code",
   "execution_count": 18,
   "id": "075169ce",
   "metadata": {
    "execution": {
     "iopub.execute_input": "2025-05-28T18:02:39.574028Z",
     "iopub.status.busy": "2025-05-28T18:02:39.573678Z",
     "iopub.status.idle": "2025-05-28T18:02:39.974160Z",
     "shell.execute_reply": "2025-05-28T18:02:39.972959Z"
    },
    "papermill": {
     "duration": 0.410217,
     "end_time": "2025-05-28T18:02:39.976682",
     "exception": false,
     "start_time": "2025-05-28T18:02:39.566465",
     "status": "completed"
    },
    "tags": []
   },
   "outputs": [
    {
     "data": {
      "image/png": "[encoded data removed]",
      "text/plain": [
       "<Figure size 1500x500 with 1 Axes>"
      ]
     },
     "metadata": {},
     "output_type": "display_data"
    }
   ],
   "source": [
    "import matplotlib.pyplot as plt\n",
    "import pandas as pd\n",
    "\n",
    "# Step 1: Convert DATE column to datetime if not already\n",
    "filtered_transactions_data['DATE'] = pd.to_datetime(filtered_transactions_data['DATE'])\n",
    "\n",
    "# Step 2: Group by date and sum sales\n",
    "date_sales = filtered_transactions_data.groupby('DATE')['TOT_SALES'].sum().reset_index()\n",
    "\n",
    "# Step 3: Plot\n",
    "plt.figure(figsize=(15, 5))\n",
    "plt.plot(date_sales[\"DATE\"], date_sales[\"TOT_SALES\"], color=\"#ff3f34\")\n",
    "plt.title(\"Total Sales Per Day (1st July 2018 – 30th June 2019)\")\n",
    "plt.xlabel(\"Date\")\n",
    "plt.ylabel(\"Total Sales ($)\")\n",
    "plt.grid(True, linestyle='--', alpha=0.5)\n",
    "plt.tight_layout()\n",
    "plt.show()\n"
   ]
  },
  {
   "cell_type": "markdown",
   "id": "e6210498",
   "metadata": {
    "papermill": {
     "duration": 0.008376,
     "end_time": "2025-05-28T18:02:39.994189",
     "exception": false,
     "start_time": "2025-05-28T18:02:39.985813",
     "status": "completed"
    },
    "tags": []
   },
   "source": [
    "As shown in the line graph, sales dropped to zero on December 25th, 2018 — Christmas Day — which we manually set to zero. Interestingly, there was also an all-time high in sales just before that date. To understand this pattern better, we need to analyze the transaction data for December 2018 in more detail."
   ]
  },
  {
   "cell_type": "code",
   "execution_count": 19,
   "id": "7ac535bb",
   "metadata": {
    "execution": {
     "iopub.execute_input": "2025-05-28T18:02:40.013754Z",
     "iopub.status.busy": "2025-05-28T18:02:40.013386Z",
     "iopub.status.idle": "2025-05-28T18:02:40.020005Z",
     "shell.execute_reply": "2025-05-28T18:02:40.019169Z"
    },
    "papermill": {
     "duration": 0.01832,
     "end_time": "2025-05-28T18:02:40.021370",
     "exception": false,
     "start_time": "2025-05-28T18:02:40.003050",
     "status": "completed"
    },
    "tags": []
   },
   "outputs": [
    {
     "data": {
      "text/plain": [
       "Index(['DATE', 'STORE_NBR', 'LYLTY_CARD_NBR', 'TXN_ID', 'PROD_NBR',\n",
       "       'PROD_NAME', 'PROD_QTY', 'TOT_SALES', 'MONTH', 'LIFESTAGE',\n",
       "       'PREMIUM_CUSTOMER'],\n",
       "      dtype='object')"
      ]
     },
     "execution_count": 19,
     "metadata": {},
     "output_type": "execute_result"
    }
   ],
   "source": [
    "filtered_transactions_data.columns\n"
   ]
  },
  {
   "cell_type": "code",
   "execution_count": 20,
   "id": "7f13e3dc",
   "metadata": {
    "execution": {
     "iopub.execute_input": "2025-05-28T18:02:40.040319Z",
     "iopub.status.busy": "2025-05-28T18:02:40.039954Z",
     "iopub.status.idle": "2025-05-28T18:02:42.829107Z",
     "shell.execute_reply": "2025-05-28T18:02:42.828239Z"
    },
    "papermill": {
     "duration": 2.800566,
     "end_time": "2025-05-28T18:02:42.830654",
     "exception": false,
     "start_time": "2025-05-28T18:02:40.030088",
     "status": "completed"
    },
    "tags": []
   },
   "outputs": [
    {
     "data": {
      "image/png": "[encoded data removed]",
      "text/plain": [
       "<Figure size 1300x500 with 1 Axes>"
      ]
     },
     "metadata": {},
     "output_type": "display_data"
    }
   ],
   "source": [
    "import re\n",
    "import seaborn as sns\n",
    "\n",
    "# Step 1: Extract package size from PROD_NAME\n",
    "filtered_transactions_data['PROD_SIZE'] = filtered_transactions_data['PROD_NAME'].str.extract(r'(\\d+g)')\n",
    "\n",
    "# Step 2: Filter dates for holiday sales: 21st to 24th December 2018\n",
    "holiday_sales = filtered_transactions_data[\n",
    "    (filtered_transactions_data['DATE'] >= '2018-12-21') & \n",
    "    (filtered_transactions_data['DATE'] <= '2018-12-24')\n",
    "]\n",
    "\n",
    "# Step 3: Group by PROD_SIZE and sum sales\n",
    "holiday_sales_grouped = holiday_sales.groupby('PROD_SIZE')['TOT_SALES'].sum().reset_index()\n",
    "\n",
    "# Step 4: Plot the bar chart\n",
    "plt.figure(figsize=(13, 5))\n",
    "sns.barplot(x=\"PROD_SIZE\", y=\"TOT_SALES\", data=holiday_sales_grouped, palette=\"viridis\")\n",
    "plt.title(\"Total Sales by Package Size During Holiday Season (21–24 Dec 2018)\")\n",
    "plt.xlabel(\"Package Size\")\n",
    "plt.ylabel(\"Total Sales\")\n",
    "plt.xticks(rotation=45)\n",
    "plt.tight_layout()\n",
    "plt.show()\n"
   ]
  },
  {
   "cell_type": "code",
   "execution_count": 21,
   "id": "87ef9dbb",
   "metadata": {
    "execution": {
     "iopub.execute_input": "2025-05-28T18:02:42.854317Z",
     "iopub.status.busy": "2025-05-28T18:02:42.853800Z",
     "iopub.status.idle": "2025-05-28T18:02:42.892133Z",
     "shell.execute_reply": "2025-05-28T18:02:42.890974Z"
    },
    "papermill": {
     "duration": 0.052105,
     "end_time": "2025-05-28T18:02:42.893663",
     "exception": false,
     "start_time": "2025-05-28T18:02:42.841558",
     "status": "completed"
    },
    "tags": []
   },
   "outputs": [
    {
     "name": "stdout",
     "output_type": "stream",
     "text": [
      "Top 10 Most Purchased Items (All-Time):\n",
      "                                  PROD_NAME  PROD_QTY\n",
      "0    Kettle Mozzarella   Basil & Pesto 175g      6381\n",
      "1  Kettle Tortilla ChpsHny&Jlpno Chili 150g      6309\n",
      "2            Cobs Popd Sea Salt  Chips 110g      6277\n",
      "3  Cobs Popd Swt/Chlli &Sr/Cream Chips 110g      6256\n",
      "4             Tostitos Splash Of  Lime 175g      6234\n",
      "\n",
      "Bottom 10 Least Purchased Items (All-Time):\n",
      "                                  PROD_NAME  PROD_QTY\n",
      "109                RRD Pc Sea Salt     165g      2702\n",
      "110          Woolworths Medium   Salsa 300g      2700\n",
      "111  NCC Sour Cream &    Garden Chives 175g      2682\n",
      "112       WW Crinkle Cut      Original 175g      2666\n",
      "113          French Fries Potato Chips 175g      2643\n"
     ]
    }
   ],
   "source": [
    "# Group by product name and sum quantity sold (all-time)\n",
    "alltime_product_sales = (\n",
    "    filtered_transactions_data.groupby('PROD_NAME')['PROD_QTY']\n",
    "    .sum()\n",
    "    .sort_values(ascending=False)\n",
    "    .reset_index()\n",
    ")\n",
    "\n",
    "# Top 5 most purchased (all-time)\n",
    "top_5_alltime = alltime_product_sales.head(5)\n",
    "print(\"Top 10 Most Purchased Items (All-Time):\")\n",
    "print(top_5_alltime)\n",
    "\n",
    "# Bottom 5 least purchased (all-time)\n",
    "bottom_5_alltime = alltime_product_sales.tail(5)\n",
    "print(\"\\nBottom 10 Least Purchased Items (All-Time):\")\n",
    "print(bottom_5_alltime)\n"
   ]
  },
  {
   "cell_type": "code",
   "execution_count": 22,
   "id": "656a835b",
   "metadata": {
    "execution": {
     "iopub.execute_input": "2025-05-28T18:02:42.916050Z",
     "iopub.status.busy": "2025-05-28T18:02:42.915148Z",
     "iopub.status.idle": "2025-05-28T18:02:42.959678Z",
     "shell.execute_reply": "2025-05-28T18:02:42.958592Z"
    },
    "papermill": {
     "duration": 0.057327,
     "end_time": "2025-05-28T18:02:42.961484",
     "exception": false,
     "start_time": "2025-05-28T18:02:42.904157",
     "status": "completed"
    },
    "tags": []
   },
   "outputs": [
    {
     "name": "stdout",
     "output_type": "stream",
     "text": [
      "Top 5 Loyalty Card Holders by Total Spending:\n",
      "LYLTY_CARD_NBR\n",
      "230078    138.6\n",
      "63197     132.8\n",
      "259009    127.2\n",
      "162039    126.8\n",
      "58361     124.8\n",
      "Name: TOT_SALES, dtype: float64\n"
     ]
    }
   ],
   "source": [
    "top_spenders = (\n",
    "    filtered_transactions_data.groupby('LYLTY_CARD_NBR')['TOT_SALES']\n",
    "    .sum()\n",
    "    .sort_values(ascending=False)\n",
    "    .head(5)\n",
    ")\n",
    "\n",
    "print(\"Top 5 Loyalty Card Holders by Total Spending:\")\n",
    "print(top_spenders)\n"
   ]
  },
  {
   "cell_type": "markdown",
   "id": "dff342f4",
   "metadata": {
    "papermill": {
     "duration": 0.009994,
     "end_time": "2025-05-28T18:02:42.981632",
     "exception": false,
     "start_time": "2025-05-28T18:02:42.971638",
     "status": "completed"
    },
    "tags": []
   },
   "source": [
    "Top Spending Loyalty Card Holders"
   ]
  },
  {
   "cell_type": "code",
   "execution_count": 23,
   "id": "4cf40bf7",
   "metadata": {
    "execution": {
     "iopub.execute_input": "2025-05-28T18:02:43.003098Z",
     "iopub.status.busy": "2025-05-28T18:02:43.002681Z",
     "iopub.status.idle": "2025-05-28T18:02:43.027370Z",
     "shell.execute_reply": "2025-05-28T18:02:43.026154Z"
    },
    "papermill": {
     "duration": 0.037428,
     "end_time": "2025-05-28T18:02:43.028988",
     "exception": false,
     "start_time": "2025-05-28T18:02:42.991560",
     "status": "completed"
    },
    "tags": []
   },
   "outputs": [
    {
     "name": "stdout",
     "output_type": "stream",
     "text": [
      "Customer Segments Ranked by Total Sales:\n",
      "LIFESTAGE               PREMIUM_CUSTOMER\n",
      "OLDER FAMILIES          Budget              168363.25\n",
      "YOUNG SINGLES/COUPLES   Mainstream          157621.60\n",
      "RETIREES                Mainstream          155677.05\n",
      "YOUNG FAMILIES          Budget              139345.85\n",
      "OLDER SINGLES/COUPLES   Budget              136769.80\n",
      "                        Mainstream          133393.80\n",
      "                        Premium             132257.15\n",
      "RETIREES                Budget              113147.80\n",
      "OLDER FAMILIES          Mainstream          103445.55\n",
      "RETIREES                Premium              97646.05\n",
      "YOUNG FAMILIES          Mainstream           92788.75\n",
      "MIDAGE SINGLES/COUPLES  Mainstream           90803.85\n",
      "YOUNG FAMILIES          Premium              84025.50\n",
      "OLDER FAMILIES          Premium              80658.40\n",
      "YOUNG SINGLES/COUPLES   Budget               61141.60\n",
      "MIDAGE SINGLES/COUPLES  Premium              58432.65\n",
      "YOUNG SINGLES/COUPLES   Premium              41642.10\n",
      "MIDAGE SINGLES/COUPLES  Budget               35514.80\n",
      "NEW FAMILIES            Budget               21928.45\n",
      "                        Mainstream           17013.90\n",
      "                        Premium              11491.10\n",
      "Name: TOT_SALES, dtype: float64\n"
     ]
    },
    {
     "name": "stderr",
     "output_type": "stream",
     "text": [
      "/tmp/ipykernel_13/1565520503.py:2: FutureWarning: The default of observed=False is deprecated and will be changed to True in a future version of pandas. Pass observed=False to retain current behavior or observed=True to adopt the future default and silence this warning.\n",
      "  filtered_transactions_data.groupby(['LIFESTAGE', 'PREMIUM_CUSTOMER'])['TOT_SALES']\n"
     ]
    }
   ],
   "source": [
    "segment_sales = (\n",
    "    filtered_transactions_data.groupby(['LIFESTAGE', 'PREMIUM_CUSTOMER'])['TOT_SALES']\n",
    "    .sum()\n",
    "    .sort_values(ascending=False)\n",
    ")\n",
    "\n",
    "print(\"Customer Segments Ranked by Total Sales:\")\n",
    "print(segment_sales)\n"
   ]
  },
  {
   "cell_type": "markdown",
   "id": "4d61decc",
   "metadata": {
    "papermill": {
     "duration": 0.00991,
     "end_time": "2025-05-28T18:02:43.050007",
     "exception": false,
     "start_time": "2025-05-28T18:02:43.040097",
     "status": "completed"
    },
    "tags": []
   },
   "source": [
    "Top Customer Segments by Sales"
   ]
  },
  {
   "cell_type": "code",
   "execution_count": 24,
   "id": "98869fe0",
   "metadata": {
    "execution": {
     "iopub.execute_input": "2025-05-28T18:02:43.072440Z",
     "iopub.status.busy": "2025-05-28T18:02:43.071432Z",
     "iopub.status.idle": "2025-05-28T18:02:43.079230Z",
     "shell.execute_reply": "2025-05-28T18:02:43.078132Z"
    },
    "papermill": {
     "duration": 0.020721,
     "end_time": "2025-05-28T18:02:43.080935",
     "exception": false,
     "start_time": "2025-05-28T18:02:43.060214",
     "status": "completed"
    },
    "tags": []
   },
   "outputs": [
    {
     "name": "stdout",
     "output_type": "stream",
     "text": [
      "Average Spend per Transaction: $7.30\n"
     ]
    }
   ],
   "source": [
    "#Average Spend per Transaction\n",
    "avg_spend = filtered_transactions_data['TOT_SALES'].mean()\n",
    "print(f\"Average Spend per Transaction: ${avg_spend:.2f}\")\n"
   ]
  },
  {
   "cell_type": "code",
   "execution_count": 25,
   "id": "b1d9ab51",
   "metadata": {
    "execution": {
     "iopub.execute_input": "2025-05-28T18:02:43.105949Z",
     "iopub.status.busy": "2025-05-28T18:02:43.104900Z",
     "iopub.status.idle": "2025-05-28T18:02:43.297315Z",
     "shell.execute_reply": "2025-05-28T18:02:43.296438Z"
    },
    "papermill": {
     "duration": 0.205972,
     "end_time": "2025-05-28T18:02:43.298843",
     "exception": false,
     "start_time": "2025-05-28T18:02:43.092871",
     "status": "completed"
    },
    "tags": []
   },
   "outputs": [
    {
     "data": {
      "text/html": [
       "<div>\n",
       "<style scoped>\n",
       "    .dataframe tbody tr th:only-of-type {\n",
       "        vertical-align: middle;\n",
       "    }\n",
       "\n",
       "    .dataframe tbody tr th {\n",
       "        vertical-align: top;\n",
       "    }\n",
       "\n",
       "    .dataframe thead th {\n",
       "        text-align: right;\n",
       "    }\n",
       "</style>\n",
       "<table border=\"1\" class=\"dataframe\">\n",
       "  <thead>\n",
       "    <tr style=\"text-align: right;\">\n",
       "      <th></th>\n",
       "      <th>LYLTY_CARD_NBR</th>\n",
       "      <th>MONETARY</th>\n",
       "      <th>FREQUENCY</th>\n",
       "      <th>RECENCY</th>\n",
       "    </tr>\n",
       "  </thead>\n",
       "  <tbody>\n",
       "    <tr>\n",
       "      <th>0</th>\n",
       "      <td>1000</td>\n",
       "      <td>6.0</td>\n",
       "      <td>1</td>\n",
       "      <td>256</td>\n",
       "    </tr>\n",
       "    <tr>\n",
       "      <th>1</th>\n",
       "      <td>1002</td>\n",
       "      <td>2.7</td>\n",
       "      <td>1</td>\n",
       "      <td>287</td>\n",
       "    </tr>\n",
       "    <tr>\n",
       "      <th>2</th>\n",
       "      <td>1003</td>\n",
       "      <td>6.6</td>\n",
       "      <td>2</td>\n",
       "      <td>114</td>\n",
       "    </tr>\n",
       "    <tr>\n",
       "      <th>3</th>\n",
       "      <td>1004</td>\n",
       "      <td>1.9</td>\n",
       "      <td>1</td>\n",
       "      <td>240</td>\n",
       "    </tr>\n",
       "    <tr>\n",
       "      <th>4</th>\n",
       "      <td>1005</td>\n",
       "      <td>2.8</td>\n",
       "      <td>1</td>\n",
       "      <td>184</td>\n",
       "    </tr>\n",
       "  </tbody>\n",
       "</table>\n",
       "</div>"
      ],
      "text/plain": [
       "   LYLTY_CARD_NBR  MONETARY  FREQUENCY  RECENCY\n",
       "0            1000       6.0          1      256\n",
       "1            1002       2.7          1      287\n",
       "2            1003       6.6          2      114\n",
       "3            1004       1.9          1      240\n",
       "4            1005       2.8          1      184"
      ]
     },
     "execution_count": 25,
     "metadata": {},
     "output_type": "execute_result"
    }
   ],
   "source": [
    "import pandas as pd\n",
    "import matplotlib.pyplot as plt\n",
    "import seaborn as sns\n",
    "import datetime\n",
    "\n",
    "# Ensure date is in datetime format\n",
    "filtered_transactions_data[\"DATE\"] = pd.to_datetime(filtered_transactions_data[\"DATE\"])\n",
    "\n",
    "# Create RFM table\n",
    "rfm = filtered_transactions_data.groupby(\"LYLTY_CARD_NBR\").agg({\n",
    "    \"TOT_SALES\": [\"sum\", \"count\"],\n",
    "    \"DATE\": \"max\"\n",
    "}).reset_index()\n",
    "\n",
    "# Rename columns\n",
    "rfm.columns = [\"LYLTY_CARD_NBR\", \"MONETARY\", \"FREQUENCY\", \"LAST_PURCHASE_DATE\"]\n",
    "\n",
    "# Calculate Recency from last transaction to fiscal end date\n",
    "rfm[\"RECENCY\"] = (pd.to_datetime(\"2019-06-30\") - rfm[\"LAST_PURCHASE_DATE\"]).dt.days\n",
    "\n",
    "# Drop unneeded column\n",
    "rfm.drop(columns=\"LAST_PURCHASE_DATE\", inplace=True)\n",
    "\n",
    "# View top rows (optional)\n",
    "rfm.head()\n"
   ]
  },
  {
   "cell_type": "markdown",
   "id": "2da81b96",
   "metadata": {
    "papermill": {
     "duration": 0.010325,
     "end_time": "2025-05-28T18:02:43.320427",
     "exception": false,
     "start_time": "2025-05-28T18:02:43.310102",
     "status": "completed"
    },
    "tags": []
   },
   "source": [
    "# 🧹 Data Cleaning Summary\n",
    "\n",
    "1. **Initial Inspection & Understanding**  \n",
    "   - Loaded the dataset and examined its structure and column names.  \n",
    "   - Verified data types, especially ensuring the `DATE` column was in proper datetime format.\n",
    "\n",
    "2. **Duplicate & Missing Values**  \n",
    "   - Checked for and confirmed there were **no missing values** or **duplicate records**.\n",
    "\n",
    "3. **Outlier Detection & Handling**  \n",
    "   - Identified a suspicious transaction of **200 units** in one purchase.  \n",
    "   - Removed it as an outlier to avoid skewed analysis.\n",
    "\n",
    "4. **Filtering Transaction Types**  \n",
    "   - Kept only records where `PROD_QTY >= 1`.\n",
    "\n",
    "5. **Column Renaming**  \n",
    "   - Renamed cleaned dataset to `filtered_transactions_data`.\n",
    "\n",
    "6. **Date Coverage**  \n",
    "   - Confirmed data ranges from **1st July 2018 to 30th June 2019**.  \n",
    "   - Noted **25th December (Christmas Day)** is missing, likely due to store closure.\n",
    "\n",
    "---\n",
    "\n",
    "# 📊 Exploratory Data Analysis (EDA) Summary\n",
    "\n",
    "1. **Sales Trend Over Time**  \n",
    "   - Line plot of total daily sales shows spikes and weekly patterns.\n",
    "\n",
    "2. **Festive Period Focus (21–24 Dec 2018)**  \n",
    "   - Analyzed sales by **package size** and product types.\n",
    "\n",
    "3. **Product Popularity**  \n",
    "   - Listed **top 5 and bottom 5** most purchased products:  \n",
    "     - For **entire year**  \n",
    "     - For **festive period**\n",
    "\n",
    "4. **Customer Purchase Behavior (RFM)**  \n",
    "   - Created RFM table:  \n",
    "     - **Recency** = Days since last purchase  \n",
    "     - **Frequency** = Total transactions  \n",
    "     - **Monetary** = Total spending  \n",
    "\n",
    "---\n",
    "\n",
    "# ✅ Conclusion\n",
    "\n",
    "Dataset is now clean, structured, and analyzed. Task 1 sets the foundation for advanced behavioral insights in Task 2.\n"
   ]
  }
 ],
 "metadata": {
  "kaggle": {
   "accelerator": "none",
   "dataSources": [
    {
     "datasetId": 7487021,
     "sourceId": 11909481,
     "sourceType": "datasetVersion"
    }
   ],
   "dockerImageVersionId": 31040,
   "isGpuEnabled": false,
   "isInternetEnabled": true,
   "language": "python",
   "sourceType": "notebook"
  },
  "kernelspec": {
   "display_name": "Python 3",
   "language": "python",
   "name": "python3"
  },
  "language_info": {
   "codemirror_mode": {
    "name": "ipython",
    "version": 3
   },
   "file_extension": ".py",
   "mimetype": "text/x-python",
   "name": "python",
   "nbconvert_exporter": "python",
   "pygments_lexer": "ipython3",
   "version": "3.11.11"
  },
  "papermill": {
   "default_parameters": {},
   "duration": 64.059147,
   "end_time": "2025-05-28T18:02:44.154009",
   "environment_variables": {},
   "exception": null,
   "input_path": "__notebook__.ipynb",
   "output_path": "__notebook__.ipynb",
   "parameters": {},
   "start_time": "2025-05-28T18:01:40.094862",
   "version": "2.6.0"
  }
 },
 "nbformat": 4,
 "nbformat_minor": 5
}
